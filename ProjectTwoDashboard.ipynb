{
 "cells": [
  {
   "cell_type": "code",
   "execution_count": 2,
   "id": "3ed24c36",
   "metadata": {},
   "outputs": [
    {
     "name": "stderr",
     "output_type": "stream",
     "text": [
      " * Running on http://127.0.0.1:10597/ (Press CTRL+C to quit)\n",
      "127.0.0.1 - - [20/Oct/2024 03:35:46] \"GET /_alive_56b9b39e-1eaa-4a8c-9586-657788d30a04 HTTP/1.1\" 200 -\n"
     ]
    },
    {
     "name": "stdout",
     "output_type": "stream",
     "text": [
      "Dash app running on http://127.0.0.1:10597/\n"
     ]
    },
    {
     "name": "stderr",
     "output_type": "stream",
     "text": [
      "127.0.0.1 - - [20/Oct/2024 03:44:18] \"POST /_dash-update-component HTTP/1.1\" 200 -\n"
     ]
    },
    {
     "name": "stdout",
     "output_type": "stream",
     "text": [
      "Filter type selected: Reset\n"
     ]
    },
    {
     "name": "stderr",
     "output_type": "stream",
     "text": [
      "127.0.0.1 - - [20/Oct/2024 03:44:18] \"POST /_dash-update-component HTTP/1.1\" 200 -\n",
      "127.0.0.1 - - [20/Oct/2024 03:44:18] \"POST /_dash-update-component HTTP/1.1\" 200 -\n",
      "127.0.0.1 - - [20/Oct/2024 03:46:12] \"POST /_dash-update-component HTTP/1.1\" 200 -\n",
      "127.0.0.1 - - [20/Oct/2024 03:46:12] \"POST /_dash-update-component HTTP/1.1\" 200 -\n",
      "127.0.0.1 - - [20/Oct/2024 03:46:12] \"POST /_dash-update-component HTTP/1.1\" 200 -\n"
     ]
    },
    {
     "name": "stdout",
     "output_type": "stream",
     "text": [
      "Filter type selected: Water\n",
      "Filtered data shape: (17, 16)\n"
     ]
    },
    {
     "name": "stderr",
     "output_type": "stream",
     "text": [
      "127.0.0.1 - - [20/Oct/2024 03:46:16] \"POST /_dash-update-component HTTP/1.1\" 200 -\n",
      "127.0.0.1 - - [20/Oct/2024 03:47:14] \"POST /_dash-update-component HTTP/1.1\" 200 -\n",
      "127.0.0.1 - - [20/Oct/2024 03:47:14] \"POST /_dash-update-component HTTP/1.1\" 200 -\n",
      "127.0.0.1 - - [20/Oct/2024 03:47:14] \"POST /_dash-update-component HTTP/1.1\" 200 -\n"
     ]
    },
    {
     "name": "stdout",
     "output_type": "stream",
     "text": [
      "Filter type selected: Mountain\n",
      "Filtered data shape: (5, 16)\n"
     ]
    },
    {
     "name": "stderr",
     "output_type": "stream",
     "text": [
      "127.0.0.1 - - [20/Oct/2024 03:47:17] \"POST /_dash-update-component HTTP/1.1\" 200 -\n",
      "127.0.0.1 - - [20/Oct/2024 03:48:18] \"POST /_dash-update-component HTTP/1.1\" 200 -\n",
      "127.0.0.1 - - [20/Oct/2024 03:48:18] \"POST /_dash-update-component HTTP/1.1\" 200 -\n",
      "127.0.0.1 - - [20/Oct/2024 03:48:18] \"POST /_dash-update-component HTTP/1.1\" 200 -\n"
     ]
    },
    {
     "name": "stdout",
     "output_type": "stream",
     "text": [
      "Filter type selected: Disaster\n",
      "Filtered data shape: (4, 16)\n"
     ]
    },
    {
     "name": "stderr",
     "output_type": "stream",
     "text": [
      "127.0.0.1 - - [20/Oct/2024 03:48:21] \"POST /_dash-update-component HTTP/1.1\" 200 -\n",
      "127.0.0.1 - - [20/Oct/2024 03:48:23] \"POST /_dash-update-component HTTP/1.1\" 200 -\n",
      "127.0.0.1 - - [20/Oct/2024 03:48:24] \"POST /_dash-update-component HTTP/1.1\" 200 -\n",
      "127.0.0.1 - - [20/Oct/2024 03:48:28] \"POST /_dash-update-component HTTP/1.1\" 200 -\n",
      "127.0.0.1 - - [20/Oct/2024 03:48:34] \"POST /_dash-update-component HTTP/1.1\" 200 -\n",
      "127.0.0.1 - - [20/Oct/2024 03:48:36] \"POST /_dash-update-component HTTP/1.1\" 200 -\n",
      "127.0.0.1 - - [20/Oct/2024 03:48:44] \"POST /_dash-update-component HTTP/1.1\" 200 -\n",
      "127.0.0.1 - - [20/Oct/2024 03:48:46] \"POST /_dash-update-component HTTP/1.1\" 200 -\n",
      "127.0.0.1 - - [20/Oct/2024 03:50:33] \"POST /_dash-update-component HTTP/1.1\" 200 -\n"
     ]
    },
    {
     "name": "stdout",
     "output_type": "stream",
     "text": [
      "Filter type selected: Reset\n"
     ]
    },
    {
     "name": "stderr",
     "output_type": "stream",
     "text": [
      "127.0.0.1 - - [20/Oct/2024 03:50:33] \"POST /_dash-update-component HTTP/1.1\" 200 -\n",
      "127.0.0.1 - - [20/Oct/2024 03:50:33] \"POST /_dash-update-component HTTP/1.1\" 200 -\n",
      "127.0.0.1 - - [20/Oct/2024 03:50:39] \"POST /_dash-update-component HTTP/1.1\" 200 -\n",
      "127.0.0.1 - - [20/Oct/2024 03:50:41] \"POST /_dash-update-component HTTP/1.1\" 200 -\n",
      "127.0.0.1 - - [20/Oct/2024 03:50:47] \"POST /_dash-update-component HTTP/1.1\" 200 -\n",
      "127.0.0.1 - - [20/Oct/2024 03:50:47] \"POST /_dash-update-component HTTP/1.1\" 200 -\n",
      "127.0.0.1 - - [20/Oct/2024 03:50:49] \"POST /_dash-update-component HTTP/1.1\" 200 -\n",
      "127.0.0.1 - - [20/Oct/2024 03:50:53] \"POST /_dash-update-component HTTP/1.1\" 200 -\n",
      "127.0.0.1 - - [20/Oct/2024 03:52:14] \"POST /_dash-update-component HTTP/1.1\" 200 -\n",
      "127.0.0.1 - - [20/Oct/2024 03:52:14] \"POST /_dash-update-component HTTP/1.1\" 200 -\n",
      "127.0.0.1 - - [20/Oct/2024 03:52:18] \"POST /_dash-update-component HTTP/1.1\" 200 -\n",
      "127.0.0.1 - - [20/Oct/2024 03:52:18] \"POST /_dash-update-component HTTP/1.1\" 200 -\n",
      "127.0.0.1 - - [20/Oct/2024 03:52:22] \"POST /_dash-update-component HTTP/1.1\" 200 -\n",
      "127.0.0.1 - - [20/Oct/2024 03:52:22] \"POST /_dash-update-component HTTP/1.1\" 200 -\n",
      "127.0.0.1 - - [20/Oct/2024 03:52:58] \"POST /_dash-update-component HTTP/1.1\" 200 -\n",
      "127.0.0.1 - - [20/Oct/2024 03:53:29] \"POST /_dash-update-component HTTP/1.1\" 200 -\n",
      "127.0.0.1 - - [20/Oct/2024 03:53:29] \"POST /_dash-update-component HTTP/1.1\" 200 -\n",
      "127.0.0.1 - - [20/Oct/2024 03:53:29] \"POST /_dash-update-component HTTP/1.1\" 200 -\n"
     ]
    },
    {
     "name": "stdout",
     "output_type": "stream",
     "text": [
      "Filter type selected: Mountain\n",
      "Filtered data shape: (5, 16)\n"
     ]
    },
    {
     "name": "stderr",
     "output_type": "stream",
     "text": [
      "127.0.0.1 - - [20/Oct/2024 03:53:33] \"POST /_dash-update-component HTTP/1.1\" 200 -\n",
      "127.0.0.1 - - [20/Oct/2024 03:53:33] \"POST /_dash-update-component HTTP/1.1\" 200 -\n",
      "127.0.0.1 - - [20/Oct/2024 03:53:37] \"POST /_dash-update-component HTTP/1.1\" 200 -\n",
      "127.0.0.1 - - [20/Oct/2024 03:53:37] \"POST /_dash-update-component HTTP/1.1\" 200 -\n",
      "127.0.0.1 - - [20/Oct/2024 03:53:41] \"POST /_dash-update-component HTTP/1.1\" 200 -\n",
      "127.0.0.1 - - [20/Oct/2024 03:53:41] \"POST /_dash-update-component HTTP/1.1\" 200 -\n",
      "127.0.0.1 - - [20/Oct/2024 03:53:43] \"POST /_dash-update-component HTTP/1.1\" 200 -\n",
      "127.0.0.1 - - [20/Oct/2024 03:53:43] \"POST /_dash-update-component HTTP/1.1\" 200 -\n",
      "127.0.0.1 - - [20/Oct/2024 03:53:50] \"POST /_dash-update-component HTTP/1.1\" 200 -\n",
      "127.0.0.1 - - [20/Oct/2024 04:22:22] \"POST /_dash-update-component HTTP/1.1\" 200 -\n",
      "127.0.0.1 - - [20/Oct/2024 04:22:22] \"POST /_dash-update-component HTTP/1.1\" 200 -\n",
      "127.0.0.1 - - [20/Oct/2024 04:22:22] \"POST /_dash-update-component HTTP/1.1\" 200 -\n"
     ]
    },
    {
     "name": "stdout",
     "output_type": "stream",
     "text": [
      "Filter type selected: Disaster\n",
      "Filtered data shape: (4, 16)\n"
     ]
    },
    {
     "name": "stderr",
     "output_type": "stream",
     "text": [
      "127.0.0.1 - - [20/Oct/2024 04:22:24] \"POST /_dash-update-component HTTP/1.1\" 200 -\n"
     ]
    },
    {
     "name": "stdout",
     "output_type": "stream",
     "text": [
      "Filter type selected: Reset\n"
     ]
    },
    {
     "name": "stderr",
     "output_type": "stream",
     "text": [
      "127.0.0.1 - - [20/Oct/2024 04:22:24] \"POST /_dash-update-component HTTP/1.1\" 200 -\n",
      "127.0.0.1 - - [20/Oct/2024 04:22:25] \"POST /_dash-update-component HTTP/1.1\" 200 -\n"
     ]
    }
   ],
   "source": [
    "# Setup the Jupyter version of Dash\n",
    "from jupyter_dash import JupyterDash\n",
    "\n",
    "# Configure the necessary Python module imports for dashboard components\n",
    "import dash_leaflet as dl\n",
    "from dash import dcc\n",
    "from dash import html\n",
    "import plotly.express as px\n",
    "from dash import dash_table\n",
    "from dash.dependencies import Input, Output, State\n",
    "import base64\n",
    "\n",
    "# Configure OS routines\n",
    "import os\n",
    "\n",
    "# Configure the plotting routines\n",
    "import numpy as np\n",
    "import pandas as pd\n",
    "import matplotlib.pyplot as plt\n",
    "\n",
    "\n",
    "#### FIX ME #####\n",
    "# change animal_shelter and AnimalShelter to match your CRUD Python module file name and class name\n",
    "from Linkhon_Hasan_CRUD import AnimalShelter\n",
    "\n",
    "###########################\n",
    "# Data Manipulation / Model\n",
    "###########################\n",
    "\n",
    "rescue_queries = {\n",
    "    'Water': {\n",
    "        'breed': {'$in': ['Labrador Retriever Mix', 'Chesapeake Bay Retriever', 'Newfoundland']},\n",
    "        'sex_upon_outcome': {'$in': ['Intact Female']},\n",
    "        'age_upon_outcome_in_weeks': {'$gte': 26, '$lte': 156}\n",
    "    },\n",
    "    'Mountain': {\n",
    "        'breed': {'$in': ['German Shepherd', 'Alaskan Malamute', 'Old English Sheepdog', 'Siberian Husky', 'Rottweiler']},\n",
    "        'sex_upon_outcome': {'$in': ['Intact Male']},\n",
    "        'age_upon_outcome_in_weeks': {'$gte': 26, '$lte': 156}\n",
    "    },\n",
    "    'Disaster': {\n",
    "        'breed': {'$in': ['Doberman Pinscher', 'German Shepherd', 'Golden Retriever', 'Bloodhound', 'Rottweiler']},\n",
    "        'sex_upon_outcome':{'$in': ['Intact Male']},\n",
    "        'age_upon_outcome_in_weeks': {'$gte': 20, '$lte': 300}\n",
    "    }\n",
    "}\n",
    "username = \"aacuser\"\n",
    "password = \"mongopass\"\n",
    "\n",
    "# Connect to database via CRUD Module\n",
    "db = AnimalShelter(username, password)\n",
    "\n",
    "# class read method must support return of list object and accept projection json input\n",
    "# sending the read method an empty document requests all documents be returned\n",
    "df = pd.DataFrame.from_records(db.getAnimal({}))\n",
    "\n",
    "# MongoDB v5+ is going to return the '_id' column and that is going to have an \n",
    "# invlaid object type of 'ObjectID' - which will cause the data_table to crash - so we remove\n",
    "# it in the dataframe here. The df.drop command allows us to drop the column. If we do not set\n",
    "# inplace=True - it will reeturn a new dataframe that does not contain the dropped column(s)\n",
    "df.drop(columns=['_id'],inplace=True)\n",
    "\n",
    "## Debug\n",
    "# print(len(df.to_dict(orient='records')))\n",
    "# print(df.columns)\n",
    "\n",
    "\n",
    "#########################\n",
    "# Dashboard Layout / View\n",
    "#########################\n",
    "app = JupyterDash(__name__)\n",
    "\n",
    "#FIX ME Add in Grazioso Salvare’s logo\n",
    "image_filename = 'Logo.png'  \n",
    "try:\n",
    "    with open(image_filename, 'rb') as img:\n",
    "        encoded_image = base64.b64encode(img.read()).decode('utf-8')\n",
    "except FileNotFoundError:\n",
    "    print(f\"Error: {image_filename} not found.\")\n",
    "except Exception as e:\n",
    "    print(f\"Could not load image: {e}\")\n",
    "\n",
    "\n",
    "app.layout = html.Div([\n",
    "    html.Center(html.B(html.H1('Final Project Dashboard'))),\n",
    "    html.Div(html.A(html.Img(src=f'data:image/png;base64,{encoded_image}', style={'height': '100px'}), href='http://www.snhu.edu')),\n",
    "    html.Div(\"Linkhon Hasan\", style={'font-size': '20px', 'margin-bottom': '20px'}),\n",
    "    html.Hr(),\n",
    "    dcc.Dropdown(\n",
    "        id='filter-type',\n",
    "        options=[\n",
    "            {'label': 'Water Rescue', 'value': 'Water'},\n",
    "            {'label': 'Mountain or Wilderness Rescue', 'value': 'Mountain'},\n",
    "            {'label': 'Disaster or Individual Tracking', 'value': 'Disaster'},\n",
    "            {'label': 'Reset', 'value': 'Reset'}\n",
    "        ],\n",
    "        value='Reset',\n",
    "        clearable=False,\n",
    "        style={'width': '50%'}\n",
    "    ),\n",
    "    html.Hr(),\n",
    "    dash_table.DataTable(id='datatable-id',\n",
    "                         columns=[{\"name\": i, \"id\": i, \"deletable\": False, \"selectable\": True} for i in df.columns],\n",
    "                         data=df.to_dict('records'),\n",
    "                        row_selectable='single', \n",
    "                        page_size=10,  \n",
    "                        sort_action='native', \n",
    "                        selected_rows=[0],  \n",
    "\n",
    "                        ),\n",
    "    html.Br(),\n",
    "    html.Hr(),\n",
    "    html.Div(className='row',\n",
    "         style={'display' : 'flex'},\n",
    "             children=[\n",
    "        html.Div(\n",
    "            id='graph-id',\n",
    "            className='col s12 m6',\n",
    "\n",
    "            ),\n",
    "        html.Div(\n",
    "            id='map-id',\n",
    "            className='col s12 m6',\n",
    "            )\n",
    "        ])\n",
    "])\n",
    "\n",
    "#############################################\n",
    "# Interaction Between Components / Controller\n",
    "#############################################\n",
    "\n",
    "\n",
    "\n",
    "    \n",
    "@app.callback(Output('datatable-id', 'data'),\n",
    "              [Input('filter-type', 'value')])\n",
    "def update_dashboard(filter_type):\n",
    "    print(f\"Filter type selected: {filter_type}\")\n",
    "\n",
    "    if filter_type == 'Reset':\n",
    "        return df.to_dict('records')\n",
    "\n",
    "    query = rescue_queries.get(filter_type)\n",
    "\n",
    "    if query:\n",
    "        filtered_data = db.getAnimal(query)\n",
    "        filtered_df = pd.DataFrame.from_records(filtered_data)\n",
    "        if '_id' in filtered_df.columns:\n",
    "            filtered_df.drop(columns=['_id'], inplace=True)\n",
    "        print(f\"Filtered data shape: {filtered_df.shape}\")\n",
    "        \n",
    "        if filtered_df.empty:\n",
    "            print(\"No results found. Returning all data.\")\n",
    "            return df.to_dict('records')\n",
    "        \n",
    "        return filtered_df.to_dict('records')\n",
    "\n",
    "    return df.to_dict('records')\n",
    "\n",
    "#Pie chart\n",
    "@app.callback(\n",
    "    Output('graph-id', \"children\"),\n",
    "    [Input('datatable-id', \"derived_virtual_data\")])\n",
    "def update_graphs(viewData):\n",
    "    if viewData is None or len(viewData) == 0:\n",
    "        return []\n",
    "\n",
    "    dff = pd.DataFrame.from_dict(viewData)\n",
    "\n",
    "    figure = px.pie(dff, names='breed', title='Preferred Animal Breeds')\n",
    "    \n",
    "    figure.update_layout(\n",
    "        autosize=False,\n",
    "        width=800,\n",
    "        height=800,\n",
    "        margin=dict(l=20, r=20, t=40, b=20),\n",
    "    )\n",
    "    \n",
    "    figure.update_traces(\n",
    "        hole=0.3, \n",
    "        textposition='inside',\n",
    "        textinfo='percent+label',\n",
    "    )\n",
    "\n",
    "    return [dcc.Graph(figure=figure)]\n",
    "\n",
    "# This callback will highlight a cell on the data table when the user selects it\n",
    "@app.callback(\n",
    "    Output('datatable-id', 'style_data_conditional'),\n",
    "    [Input('datatable-id', 'selected_columns')]\n",
    ")\n",
    "def update_styles(selected_columns):\n",
    "    return [{\n",
    "        'if': { 'column_id': i },\n",
    "        'background_color': '#D2F3FF'\n",
    "    } for i in selected_columns]\n",
    "\n",
    "# This callback will update the geo-location chart for the selected data entry\n",
    "@app.callback(\n",
    "    Output('map-id', \"children\"),\n",
    "    [Input('datatable-id', \"derived_virtual_data\"),\n",
    "     Input('datatable-id', \"derived_virtual_selected_rows\")])\n",
    "def update_map(viewData, index):  \n",
    "    if viewData is None or index is None or len(index) == 0:\n",
    "        return\n",
    "    \n",
    "    dff = pd.DataFrame.from_dict(viewData)\n",
    "    if dff.empty:\n",
    "        return\n",
    "    \n",
    "    row = index[0]\n",
    "        \n",
    "    return [\n",
    "        dl.Map(style={'width': '1000px', 'height': '500px'}, center=[30.75,-97.48], zoom=10, children=[\n",
    "            dl.TileLayer(id=\"base-layer-id\"),\n",
    "            dl.Marker(position=[dff.iloc[row, 13], dff.iloc[row, 14]], children=[\n",
    "                dl.Tooltip(dff.iloc[row, 4]),\n",
    "                dl.Popup([\n",
    "                    html.H1(\"Animal Name\"),\n",
    "                    html.P(dff.iloc[row, 9])\n",
    "                ])\n",
    "            ])\n",
    "        ])\n",
    "    ]\n",
    "\n",
    "app.run_server(debug=False)\n"
   ]
  },
  {
   "cell_type": "code",
   "execution_count": null,
   "id": "c9db364a",
   "metadata": {},
   "outputs": [],
   "source": []
  }
 ],
 "metadata": {
  "kernelspec": {
   "display_name": "Python 3 (ipykernel)",
   "language": "python",
   "name": "python3"
  },
  "language_info": {
   "codemirror_mode": {
    "name": "ipython",
    "version": 3
   },
   "file_extension": ".py",
   "mimetype": "text/x-python",
   "name": "python",
   "nbconvert_exporter": "python",
   "pygments_lexer": "ipython3",
   "version": "3.9.12"
  }
 },
 "nbformat": 4,
 "nbformat_minor": 5
}
